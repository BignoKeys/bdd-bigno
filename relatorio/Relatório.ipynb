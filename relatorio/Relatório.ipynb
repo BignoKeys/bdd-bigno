{
 "cells": [
  {
   "cell_type": "markdown",
   "metadata": {},
   "source": [
    "# Relatório de Desenvolvimento - Sistema BioKeys\n",
    "Este relatório descreve as principais funções implementadas e modificações no sistema de identificação de chaves interativas do BDD base para implementação das chaves para identificação de biognoneaceas.\n",
    "\n",
    "### Autora: Raquel Machado de Sousa      Data: 19/12/16"
   ]
  },
  {
   "cell_type": "markdown",
   "metadata": {},
   "source": [
    "# Introdução\n",
    "\n",
    "* Sistemas de Chaves Interativas para identificação de Bignoneacea\n",
    "* Explicar o que um sistema de chaves interativas\n",
    "* Contribuições para identificação de espécies\n",
    "* Uso dos dados para outros fins"
   ]
  },
  {
   "cell_type": "markdown",
   "metadata": {},
   "source": [
    "# Sistema Base BDD de identificação de chaves interativas\n",
    "\n",
    "O sistema base de identificação de espécies, tem como base principal a leitura de planilhas: \n",
    "* Ficha de Glossário:\n",
    "* Ficha de Espécime:\n",
    "\n",
    "Para leitura dessas fichas o sistema se divide em três implementações principais: models, client, server.\n"
   ]
  },
  {
   "cell_type": "markdown",
   "metadata": {},
   "source": [
    "## Implementação no Models\n",
    "\n",
    "### Schema:\n",
    "   O script Schema possui as seguintes funções e métodos principais:\n",
    "   \n",
    "   * **inputFromURL:**\n",
    "   \n",
    "   * **defineName:**\n",
    "   \n",
    "   * **saveDataset:**\n",
    "   \n",
    "   * **saveRecord:**\n",
    "   \n",
    "   * **titleCase:**\n",
    "   \n",
    "   * **downloadImages:**\n",
    "   \n",
    "   \n",
    "### Specie\n",
    "\n",
    "### Specimen\n",
    "\n",
    "### Identification\n"
   ]
  },
  {
   "cell_type": "markdown",
   "metadata": {},
   "source": [
    "## Implementação no Server\n",
    "\n"
   ]
  },
  {
   "cell_type": "markdown",
   "metadata": {},
   "source": [
    "## Implementação no Client"
   ]
  },
  {
   "cell_type": "markdown",
   "metadata": {},
   "source": [
    "# Modificações"
   ]
  },
  {
   "cell_type": "markdown",
   "metadata": {},
   "source": [
    "#### Models - Schema:\n",
    "* Nenhuma modificação no schema na leitura do glossário"
   ]
  },
  {
   "cell_type": "markdown",
   "metadata": {},
   "source": [
    "#### Models - Species:\n",
    "* Implementação do método de leitura das especies a partir da planilha\n",
    "* Implementação do método pra agregação da ficha de especimes com especies"
   ]
  },
  {
   "cell_type": "markdown",
   "metadata": {},
   "source": [
    "#### Models - Specimen:"
   ]
  },
  {
   "cell_type": "code",
   "execution_count": null,
   "metadata": {
    "collapsed": true
   },
   "outputs": [],
   "source": []
  }
 ],
 "metadata": {
  "anaconda-cloud": {},
  "kernelspec": {
   "display_name": "Python [default]",
   "language": "python",
   "name": "python3"
  },
  "language_info": {
   "codemirror_mode": {
    "name": "ipython",
    "version": 3
   },
   "file_extension": ".py",
   "mimetype": "text/x-python",
   "name": "python",
   "nbconvert_exporter": "python",
   "pygments_lexer": "ipython3",
   "version": "3.5.2"
  }
 },
 "nbformat": 4,
 "nbformat_minor": 1
}
